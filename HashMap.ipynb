{
 "cells": [
  {
   "cell_type": "markdown",
   "metadata": {},
   "source": [
    "### Dictionary is the Python specific implementation of HashMap.\n",
    "### In Java, we have LinkedHashMap and HashMap."
   ]
  },
  {
   "cell_type": "code",
   "execution_count": 1,
   "metadata": {},
   "outputs": [],
   "source": [
    "class HashTable:\n",
    "    def __init__(self):\n",
    "        self.Max = 10\n",
    "        self.arr = [None for i in range(self.Max)]\n",
    "        \n",
    "    def get_hash(self,key):\n",
    "        ## This function first calculates sum of ascii values of each character of key.\n",
    "        ## It then takes remainder of sum with self.Max\n",
    "        h = 0\n",
    "        for char in key:\n",
    "            h = h + ord(char)                     ### ord() gives the ascii value of the character.\n",
    "        return h%self.Max\n",
    "    \n",
    "    def __setitem__(self,key,value):\n",
    "        h = self.get_hash(key)\n",
    "        self.arr[h] = value\n",
    "        \n",
    "    def __getitem__(self,key):\n",
    "        h = self.get_hash(key)\n",
    "        return self.arr[h]\n",
    "    \n",
    "    def __delitem__(self,key):\n",
    "        h = self.get_hash(key)\n",
    "        self.arr[h] = None\n",
    "        "
   ]
  },
  {
   "cell_type": "code",
   "execution_count": 2,
   "metadata": {},
   "outputs": [],
   "source": [
    "h = HashTable()"
   ]
  },
  {
   "cell_type": "code",
   "execution_count": 3,
   "metadata": {},
   "outputs": [],
   "source": [
    "h['march 6'] = 6                     ### __setitem__() is the default function for this statement for key value pair.\n",
    "h['march 21'] = 21\n",
    "h['dec 28'] = 28\n",
    "h['march 17'] = 17"
   ]
  },
  {
   "cell_type": "code",
   "execution_count": 4,
   "metadata": {},
   "outputs": [
    {
     "data": {
      "text/plain": [
       "17"
      ]
     },
     "execution_count": 4,
     "metadata": {},
     "output_type": "execute_result"
    }
   ],
   "source": [
    "h['march 6']                     ### __getitem__() is the default function for this statement for finding value of key."
   ]
  },
  {
   "cell_type": "code",
   "execution_count": 5,
   "metadata": {},
   "outputs": [],
   "source": [
    "del h['march 6']                 ### __delitem__() is the default function for deleting key-value from dictionary."
   ]
  },
  {
   "cell_type": "code",
   "execution_count": 6,
   "metadata": {},
   "outputs": [
    {
     "data": {
      "text/plain": [
       "[None, None, None, None, 21, None, None, None, 28, None]"
      ]
     },
     "execution_count": 6,
     "metadata": {},
     "output_type": "execute_result"
    }
   ],
   "source": [
    "h.arr"
   ]
  },
  {
   "cell_type": "code",
   "execution_count": 7,
   "metadata": {},
   "outputs": [
    {
     "data": {
      "text/plain": [
       "9"
      ]
     },
     "execution_count": 7,
     "metadata": {},
     "output_type": "execute_result"
    }
   ],
   "source": [
    "h.get_hash('march 17')"
   ]
  },
  {
   "cell_type": "code",
   "execution_count": 8,
   "metadata": {},
   "outputs": [
    {
     "data": {
      "text/plain": [
       "9"
      ]
     },
     "execution_count": 8,
     "metadata": {},
     "output_type": "execute_result"
    }
   ],
   "source": [
    "h.get_hash('march 6')"
   ]
  },
  {
   "cell_type": "markdown",
   "metadata": {},
   "source": [
    "Here, the problem of collision occurs. Like if we have both 'march 17' and 'march 6', then as both are having get_hash() value as 9. So, either 'march 17' or 'march 6' value will get changed.\n",
    "### To avoid this, we have collision avoidance strategies such as Chaining or Linear Probing."
   ]
  },
  {
   "cell_type": "markdown",
   "metadata": {},
   "source": [
    "# Chaining"
   ]
  },
  {
   "cell_type": "code",
   "execution_count": 9,
   "metadata": {},
   "outputs": [],
   "source": [
    "class HashTable:\n",
    "    def __init__(self):\n",
    "        self.Max = 10\n",
    "        self.arr = [[] for i in range(self.Max)]\n",
    "        \n",
    "    def get_hash(self,key):\n",
    "        h = 0\n",
    "        for char in key:\n",
    "            h = h + ord(char)                     \n",
    "        return h%self.Max\n",
    "    \n",
    "    def __setitem__(self,key,value):\n",
    "        h = self.get_hash(key)\n",
    "        found = False\n",
    "        for idx, element in enumerate(self.arr[h]):\n",
    "            if len(element)==2 and element[0]==key:\n",
    "                self.arr[h][idx] = (key,value)\n",
    "                found = True\n",
    "                break\n",
    "        if not found:\n",
    "            self.arr[h].append((key,value))\n",
    "                \n",
    "    def __getitem__(self,key):\n",
    "        h = self.get_hash(key)\n",
    "        found = False\n",
    "        for element in self.arr[h]:\n",
    "            if element[0]==key:\n",
    "                found = True\n",
    "                return element[1]\n",
    "        if not found:\n",
    "            print(\"Element is not present\")\n",
    "        \n",
    "    def __delitem__(self,key):\n",
    "        h = self.get_hash(key)\n",
    "        for idx, element in enumerate(self.arr[h]):\n",
    "            if element[0]==key:\n",
    "                #del self.arr[h][idx]\n",
    "                self.arr[h].pop(idx)"
   ]
  },
  {
   "cell_type": "code",
   "execution_count": 10,
   "metadata": {},
   "outputs": [],
   "source": [
    "h = HashTable()\n",
    "h['march 6'] = 120\n",
    "h['march 6'] = 70\n",
    "h['march 28'] = 59\n",
    "h['march 17'] = 21\n",
    "h['march 26'] = 26"
   ]
  },
  {
   "cell_type": "code",
   "execution_count": 11,
   "metadata": {},
   "outputs": [
    {
     "data": {
      "text/plain": [
       "[[],\n",
       " [('march 28', 59)],\n",
       " [],\n",
       " [],\n",
       " [],\n",
       " [],\n",
       " [],\n",
       " [],\n",
       " [],\n",
       " [('march 6', 70), ('march 17', 21), ('march 26', 26)]]"
      ]
     },
     "execution_count": 11,
     "metadata": {},
     "output_type": "execute_result"
    }
   ],
   "source": [
    "h.arr"
   ]
  },
  {
   "cell_type": "code",
   "execution_count": 12,
   "metadata": {},
   "outputs": [
    {
     "data": {
      "text/plain": [
       "21"
      ]
     },
     "execution_count": 12,
     "metadata": {},
     "output_type": "execute_result"
    }
   ],
   "source": [
    "h['march 17']"
   ]
  },
  {
   "cell_type": "code",
   "execution_count": 13,
   "metadata": {},
   "outputs": [],
   "source": [
    "del h['march 17']"
   ]
  },
  {
   "cell_type": "code",
   "execution_count": 14,
   "metadata": {},
   "outputs": [
    {
     "data": {
      "text/plain": [
       "[[],\n",
       " [('march 28', 59)],\n",
       " [],\n",
       " [],\n",
       " [],\n",
       " [],\n",
       " [],\n",
       " [],\n",
       " [],\n",
       " [('march 6', 70), ('march 26', 26)]]"
      ]
     },
     "execution_count": 14,
     "metadata": {},
     "output_type": "execute_result"
    }
   ],
   "source": [
    "h.arr"
   ]
  },
  {
   "cell_type": "code",
   "execution_count": 15,
   "metadata": {},
   "outputs": [
    {
     "name": "stdout",
     "output_type": "stream",
     "text": [
      "Element is not present\n"
     ]
    }
   ],
   "source": [
    "h['march 24']"
   ]
  },
  {
   "cell_type": "markdown",
   "metadata": {},
   "source": [
    "# Linear Probing"
   ]
  },
  {
   "cell_type": "code",
   "execution_count": 16,
   "metadata": {},
   "outputs": [],
   "source": [
    "class HashTable:\n",
    "    def __init__(self):\n",
    "        self.Max = 10\n",
    "        self.arr = [None for i in range(self.Max)]\n",
    "        \n",
    "    def get_hash(self,key):\n",
    "        h = 0\n",
    "        for char in key:\n",
    "            h = h + ord(char)                     \n",
    "        return h%self.Max\n",
    "    \n",
    "    def __setitem__(self,key,value):\n",
    "        h = self.get_hash(key)\n",
    "        if self.arr[h] is None:\n",
    "            self.arr[h]=(key,value)\n",
    "        elif self.arr[h][0]==key:\n",
    "            self.arr[h]=(key,value)\n",
    "        else:\n",
    "            new_h = self.find_slot(key, h)\n",
    "            if new_h>=10:\n",
    "                print(\"Hashtable is full\")\n",
    "                return\n",
    "            self.arr[new_h] = (key,value)\n",
    "        \n",
    "            \n",
    "    def get_range(self, index):\n",
    "        ans = [*range(index+1, len(self.arr))] + [*range(0,index)]\n",
    "        return ans\n",
    "    \n",
    "    def find_slot(self,key,h):\n",
    "        range1 = self.get_range(h)\n",
    "        for index in range1:\n",
    "            if self.arr[index] is None:\n",
    "                return index\n",
    "            if self.arr[index][0] == key:\n",
    "                return index\n",
    "        return 99\n",
    "\n",
    "    def __getitem__(self,key):\n",
    "        h = self.get_hash(key)\n",
    "        if self.arr[h] is None:\n",
    "            print(\"Element is not found\")\n",
    "            return\n",
    "        if self.arr[h][0]==key:\n",
    "            return self.arr[h][1]\n",
    "        range1 = self.get_range(h)\n",
    "        for index in range1:\n",
    "            element = self.arr[index]\n",
    "            if element is None:\n",
    "                print(\"Element is not found\")\n",
    "                return\n",
    "            if element[0] == key:\n",
    "                return element[1]\n",
    "        print(\"Element is not found\")\n",
    "        \n",
    "    def __delitem__(self,key):\n",
    "        h = self.get_hash(key)\n",
    "        if self.arr[h] is not None:\n",
    "            if self.arr[h][0]==key:\n",
    "                self.arr[h]=None\n",
    "                return\n",
    "        range1 = self.get_range(h)\n",
    "        for index in range1:\n",
    "            if self.arr[index] is None:\n",
    "                print(\"Element is not found\")\n",
    "                return\n",
    "            if self.arr[index][0] == key:\n",
    "                self.arr[index]=None\n",
    "        print(\"Element is not found\")"
   ]
  },
  {
   "cell_type": "code",
   "execution_count": 17,
   "metadata": {},
   "outputs": [
    {
     "name": "stdout",
     "output_type": "stream",
     "text": [
      "[None, None, None, None, None, None, None, None, None, ('march 6', 20)]\n",
      "[('march 17', 88), None, None, None, None, None, None, None, None, ('march 6', 20)]\n",
      "[('march 17', 29), None, None, None, None, None, None, None, None, ('march 6', 20)]\n",
      "[('march 17', 29), ('nov 1', 1), None, None, None, None, None, None, None, ('march 6', 20)]\n",
      "[('march 17', 29), ('nov 1', 1), None, None, None, None, ('march 23', 234), None, None, ('march 6', 20)]\n"
     ]
    }
   ],
   "source": [
    "h = HashTable()\n",
    "h[\"march 6\"] = 20\n",
    "print(h.arr)\n",
    "h[\"march 17\"] = 88\n",
    "print(h.arr)\n",
    "h[\"march 17\"] = 29\n",
    "print(h.arr)\n",
    "h[\"nov 1\"] = 1\n",
    "print(h.arr)\n",
    "h[\"march 23\"] = 234\n",
    "print(h.arr)"
   ]
  },
  {
   "cell_type": "code",
   "execution_count": 18,
   "metadata": {},
   "outputs": [
    {
     "name": "stdout",
     "output_type": "stream",
     "text": [
      "Element is not found\n"
     ]
    }
   ],
   "source": [
    "h[\"dec 1\"]"
   ]
  },
  {
   "cell_type": "code",
   "execution_count": 19,
   "metadata": {},
   "outputs": [
    {
     "data": {
      "text/plain": [
       "1"
      ]
     },
     "execution_count": 19,
     "metadata": {},
     "output_type": "execute_result"
    }
   ],
   "source": [
    "h[\"nov 1\"]"
   ]
  },
  {
   "cell_type": "code",
   "execution_count": 20,
   "metadata": {},
   "outputs": [
    {
     "name": "stdout",
     "output_type": "stream",
     "text": [
      "[('march 17', 29), ('nov 1', 1), None, None, None, None, ('march 23', 999), None, None, ('march 6', 20)]\n",
      "[('march 17', 29), ('nov 1', 1), None, None, None, None, ('march 23', 999), ('april 1', 87), None, ('march 6', 20)]\n",
      "[('march 17', 29), ('nov 1', 1), None, None, None, None, ('march 23', 999), ('april 1', 87), ('april 2', 123), ('march 6', 20)]\n",
      "[('march 17', 29), ('nov 1', 1), ('april 3', 234), None, None, None, ('march 23', 999), ('april 1', 87), ('april 2', 123), ('march 6', 20)]\n",
      "[('march 17', 29), ('nov 1', 1), ('april 3', 234), ('april 4', 91), None, None, ('march 23', 999), ('april 1', 87), ('april 2', 123), ('march 6', 20)]\n",
      "[('march 17', 29), ('nov 1', 1), ('april 3', 234), ('april 4', 91), ('May 22', 22), None, ('march 23', 999), ('april 1', 87), ('april 2', 123), ('march 6', 20)]\n",
      "[('march 17', 29), ('nov 1', 1), ('april 3', 234), ('april 4', 91), ('May 22', 22), ('May 7', 41), ('march 23', 999), ('april 1', 87), ('april 2', 123), ('march 6', 20)]\n",
      "Hashtable is full\n"
     ]
    }
   ],
   "source": [
    "h[\"march 23\"] = 999\n",
    "print(h.arr)\n",
    "h[\"april 1\"] = 87\n",
    "print(h.arr)\n",
    "h[\"april 2\"] = 123\n",
    "print(h.arr)\n",
    "h[\"april 3\"] = 234\n",
    "print(h.arr)\n",
    "h[\"april 4\"] = 91\n",
    "print(h.arr)\n",
    "h['May 22'] = 22\n",
    "print(h.arr)\n",
    "h['May 7'] = 41\n",
    "print(h.arr)\n",
    "h[\"Jan 1\"] = 48"
   ]
  },
  {
   "cell_type": "code",
   "execution_count": 21,
   "metadata": {},
   "outputs": [
    {
     "name": "stdout",
     "output_type": "stream",
     "text": [
      "[('march 17', 29), ('nov 1', 1), ('april 3', 234), ('april 4', 91), ('May 22', 22), ('May 7', 41), ('march 23', 999), ('april 1', 87), ('april 2', 123), ('march 6', 20)]\n",
      "[('march 17', 29), ('nov 1', 1), ('april 3', 234), ('april 4', 91), ('May 22', 22), ('May 7', 41), ('march 23', 999), ('april 1', 87), None, ('march 6', 20)]\n",
      "[('march 17', 29), ('nov 1', 1), ('april 3', 234), ('april 4', 91), ('May 22', 22), ('May 7', 41), ('march 23', 999), ('april 1', 87), ('Jan 1', 48), ('march 6', 20)]\n",
      "Element is not found\n"
     ]
    }
   ],
   "source": [
    "print(h.arr)\n",
    "del h[\"april 2\"]\n",
    "print(h.arr)\n",
    "h[\"Jan 1\"] = 48\n",
    "print(h.arr)\n",
    "h['May 25']"
   ]
  },
  {
   "cell_type": "code",
   "execution_count": null,
   "metadata": {},
   "outputs": [],
   "source": []
  }
 ],
 "metadata": {
  "kernelspec": {
   "display_name": "Python 3",
   "language": "python",
   "name": "python3"
  },
  "language_info": {
   "codemirror_mode": {
    "name": "ipython",
    "version": 3
   },
   "file_extension": ".py",
   "mimetype": "text/x-python",
   "name": "python",
   "nbconvert_exporter": "python",
   "pygments_lexer": "ipython3",
   "version": "3.7.4"
  }
 },
 "nbformat": 4,
 "nbformat_minor": 2
}
